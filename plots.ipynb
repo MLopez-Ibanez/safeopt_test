{
 "cells": [
  {
   "cell_type": "code",
   "execution_count": 1,
   "metadata": {},
   "outputs": [
    {
     "name": "stdout",
     "output_type": "stream",
     "text": [
      "\n",
      "INSTALLED VERSIONS\n",
      "------------------\n",
      "commit           : 2cb96529396d93b46abab7bbc73a208e708c642e\n",
      "python           : 3.8.5.final.0\n",
      "python-bits      : 64\n",
      "OS               : Linux\n",
      "OS-release       : 5.8.0-41-generic\n",
      "Version          : #46~20.04.1-Ubuntu SMP Mon Jan 18 17:52:23 UTC 2021\n",
      "machine          : x86_64\n",
      "processor        : x86_64\n",
      "byteorder        : little\n",
      "LC_ALL           : None\n",
      "LANG             : en_GB.UTF-8\n",
      "LOCALE           : en_GB.UTF-8\n",
      "\n",
      "pandas           : 1.2.4\n",
      "numpy            : 1.20.0\n",
      "pytz             : 2019.3\n",
      "dateutil         : 2.7.3\n",
      "pip              : 20.0.2\n",
      "setuptools       : 45.2.0\n",
      "Cython           : 3.0a6\n",
      "pytest           : 4.6.9\n",
      "hypothesis       : None\n",
      "sphinx           : None\n",
      "blosc            : None\n",
      "feather          : None\n",
      "xlsxwriter       : None\n",
      "lxml.etree       : 4.5.0\n",
      "html5lib         : 1.0.1\n",
      "pymysql          : None\n",
      "psycopg2         : None\n",
      "jinja2           : 2.10.1\n",
      "IPython          : 7.13.0\n",
      "pandas_datareader: None\n",
      "bs4              : 4.8.2\n",
      "bottleneck       : None\n",
      "fsspec           : None\n",
      "fastparquet      : None\n",
      "gcsfs            : None\n",
      "matplotlib       : 3.1.2\n",
      "numexpr          : 2.7.1\n",
      "odfpy            : None\n",
      "openpyxl         : 3.0.3\n",
      "pandas_gbq       : None\n",
      "pyarrow          : None\n",
      "pyxlsb           : None\n",
      "s3fs             : None\n",
      "scipy            : 1.3.3\n",
      "sqlalchemy       : None\n",
      "tables           : 3.6.1\n",
      "tabulate         : None\n",
      "xarray           : 0.17.0\n",
      "xlrd             : 1.1.0\n",
      "xlwt             : 1.3.0\n",
      "numba            : 0.53.1\n"
     ]
    }
   ],
   "source": [
    "from imp import reload\n",
    "import sys\n",
    "# import rpy2\n",
    "import os\n",
    "import os.path\n",
    "import re\n",
    "from glob import glob\n",
    "import numpy as np\n",
    "import pandas as pd\n",
    "pd.show_versions()\n",
    "from scipy import stats\n",
    "import statsmodels.stats.api as sms\n",
    "import seaborn as sns\n",
    "import matplotlib.pyplot as plt\n",
    "import matplotlib\n",
    "matplotlib.rcParams['pdf.use14corefonts'] = True\n",
    "#matplotlib.rcParams['text.usetex'] = False\n",
    "# Use Type 1 fonts in plots.\n",
    "matplotlib.rc('pdf', fonttype=42)\n",
    "# Do not wrap long lines\n",
    "np.set_printoptions(linewidth=np.nan)\n",
    "sns.set_style(\"whitegrid\")\n",
    "%matplotlib inline"
   ]
  },
  {
   "cell_type": "code",
   "execution_count": 2,
   "metadata": {},
   "outputs": [
    {
     "name": "stdout",
     "output_type": "stream",
     "text": [
      "./results-SafeOpt-sphere_2D_75-nseeds=10.csv\n",
      "./results-SafeOptMod-sphere_2D_75-nseeds=5.csv\n",
      "./results-SafeOptMod-sphere_2D_75-nseeds=1.csv\n",
      "./results-SafeOptMod-sphere_2D_75-nseeds=10.csv\n",
      "./results-SafeOpt-sphere_2D_75-nseeds=1.csv\n",
      "./results-SafeOpt-sphere_2D_75-nseeds=5.csv\n",
      "    Algorithm      Instance  Nseeds  rep    t          y\n",
      "0     SafeOpt  sphere_2D_75      10    1    1  95.844254\n",
      "1     SafeOpt  sphere_2D_75      10    1    2  96.621841\n",
      "2     SafeOpt  sphere_2D_75      10    1    3  94.728676\n",
      "3     SafeOpt  sphere_2D_75      10    1    4  95.586022\n",
      "4     SafeOpt  sphere_2D_75      10    1    5  96.531239\n",
      "..        ...           ...     ...  ...  ...        ...\n",
      "495   SafeOpt  sphere_2D_75       5    5   96  99.999900\n",
      "496   SafeOpt  sphere_2D_75       5    5   97  99.999900\n",
      "497   SafeOpt  sphere_2D_75       5    5   98  99.999900\n",
      "498   SafeOpt  sphere_2D_75       5    5   99  99.999900\n",
      "499   SafeOpt  sphere_2D_75       5    5  100  99.999900\n",
      "\n",
      "[3000 rows x 6 columns]\n"
     ]
    }
   ],
   "source": [
    "def read_alldata(pat=\"./*.csv\"):\n",
    "    lis = []\n",
    "    for filename in glob(pat, recursive=True):\n",
    "        tmp = pd.read_csv(filename)\n",
    "        print(filename)\n",
    "        if \"SafeOpt-\" in filename:\n",
    "            tmp['Algorithm'] = \"SafeOpt\"\n",
    "        elif \"SafeOptMod-\" in filename:\n",
    "            tmp['Algorithm'] = \"SafeOptMod\"\n",
    "        match = re.search(r'-nseeds=([0-9]+)', filename.strip())\n",
    "        if match:\n",
    "            tmp['Nseeds'] = int(match.group(1));\n",
    "        match = re.search(r'-(sphere_[^-]+)-', filename.strip())\n",
    "        if match:\n",
    "            tmp['Instance'] = match.group(1);\n",
    "        lis.append(tmp)\n",
    "    return pd.concat(lis, sort = True)\n",
    "\n",
    "df = read_alldata()\n",
    "print(df)\n",
    "sel_insts = np.sort(df.Instance.unique())"
   ]
  },
  {
   "cell_type": "code",
   "execution_count": 3,
   "metadata": {
    "scrolled": true
   },
   "outputs": [
    {
     "name": "stdout",
     "output_type": "stream",
     "text": [
      "instance:  sphere_2D_75\n",
      "Algorithm   Nseeds  rep\n",
      "SafeOpt     1       1      100\n",
      "                    2      100\n",
      "                    3      100\n",
      "                    4      100\n",
      "                    5      100\n",
      "            5       1      100\n",
      "                    2      100\n",
      "                    3      100\n",
      "                    4      100\n",
      "                    5      100\n",
      "            10      1      100\n",
      "                    2      100\n",
      "                    3      100\n",
      "                    4      100\n",
      "                    5      100\n",
      "SafeOptMod  1       1      100\n",
      "                    2      100\n",
      "                    3      100\n",
      "                    4      100\n",
      "                    5      100\n",
      "            5       1      100\n",
      "                    2      100\n",
      "                    3      100\n",
      "                    4      100\n",
      "                    5      100\n",
      "            10      1      100\n",
      "                    2      100\n",
      "                    3      100\n",
      "                    4      100\n",
      "                    5      100\n",
      "dtype: int64\n",
      "Saving to img/fitness_sphere_2D_75.pdf\n"
     ]
    },
    {
     "data": {
      "image/png": "[encoded data removed]",
      "text/plain": [
       "<Figure size 576x216 with 1 Axes>"
      ]
     },
     "metadata": {
      "needs_background": "light"
     },
     "output_type": "display_data"
    }
   ],
   "source": [
    "for inst in sel_insts:\n",
    "    subdf = df[df.Instance.str.contains(inst)].sort_values('Algorithm')\n",
    "    print(\"instance: \", inst)\n",
    "    if len(subdf) == 0: continue\n",
    "    print(subdf.groupby(['Algorithm', 'Nseeds','rep']).size())\n",
    "    plt.figure(figsize=(8,3))\n",
    "    palette = sns.color_palette(\"husl\", subdf['Algorithm'].nunique())\n",
    "    g = sns.lineplot(x='t', y='y', hue='Algorithm', data=subdf, palette=palette, style=\"Nseeds\")\n",
    "    g.set(xlim=(-1, 101))\n",
    "    plt.tight_layout()\n",
    "    filename = 'img/fitness_' + subdf.Instance.iloc[0].replace('/','_').replace('.','_') + '.pdf'\n",
    "    print(\"Saving to \" + filename)\n",
    "    #plt.savefig(filename)\n",
    "    plt.show()"
   ]
  },
  {
   "cell_type": "code",
   "execution_count": null,
   "metadata": {},
   "outputs": [],
   "source": []
  }
 ],
 "metadata": {
  "kernelspec": {
   "display_name": "Python 3",
   "language": "python",
   "name": "python3"
  },
  "language_info": {
   "codemirror_mode": {
    "name": "ipython",
    "version": 3
   },
   "file_extension": ".py",
   "mimetype": "text/x-python",
   "name": "python",
   "nbconvert_exporter": "python",
   "pygments_lexer": "ipython3",
   "version": "3.8.5"
  }
 },
 "nbformat": 4,
 "nbformat_minor": 4
}
